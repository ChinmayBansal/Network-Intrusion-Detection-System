{
 "cells": [
  {
   "cell_type": "markdown",
   "id": "a4105ad2-06ff-428f-97f2-3a56f42c0d6f",
   "metadata": {},
   "source": [
    " # Network Intrusion Detection with Logistic Regression\n",
    "\n",
    "  ## Project Overview\n",
    "  This notebook implements a basic logistic regression model to detect network intrusions\n",
    "  using the UNSW-NB15 dataset. We'll build a binary classifier to distinguish between normal\n",
    "  network traffic and attack traffic.\n",
    "\n",
    "  ## Objectives\n",
    "  - Load and explore the raw UNSW-NB15 dataset\n",
    "  - Preprocess the data (handle categorical features, scaling, etc.)\n",
    "  - Train a logistic regression model\n",
    "  - Evaluate model performance on network intrusion detection\n",
    "\n",
    "  ## Dataset\n",
    "  - **Training set**: UNSW_NB15_training-set.csv (~175k samples)\n",
    "  - **Test set**: UNSW_NB15_testing-set.csv (~82k samples)\n",
    "  - **Task**: Binary classification (Normal vs Attack)\n",
    "  - **Features**: 42 network flow features including protocols, packet counts, timing\n",
    "  features\n",
    "  - **Preprocessing needed**: Categorical encoding, feature scaling, data cleaning"
   ]
  },
  {
   "cell_type": "markdown",
   "id": "4fa04688-2a2a-4f96-b21c-29ed4e4bd410",
   "metadata": {},
   "source": [
    "## Import Libraries"
   ]
  },
  {
   "cell_type": "code",
   "execution_count": 7,
   "id": "a61440da-c7b4-4582-a3a0-22d198e9eee9",
   "metadata": {},
   "outputs": [
    {
     "name": "stdout",
     "output_type": "stream",
     "text": [
      "Libraries imported successfully!\n"
     ]
    }
   ],
   "source": [
    "# Import essential libraries\n",
    "import pandas as pd\n",
    "import numpy as np\n",
    "import matplotlib.pyplot as plt\n",
    "import seaborn as sns\n",
    "\n",
    "# Machine Learning imports\n",
    "from sklearn.model_selection import train_test_split\n",
    "from sklearn.preprocessing import StandardScaler, LabelEncoder\n",
    "from sklearn.linear_model import LogisticRegression\n",
    "from sklearn.metrics import accuracy_score, precision_score, recall_score, f1_score\n",
    "from sklearn.metrics import classification_report, confusion_matrix\n",
    "\n",
    "print(\"Libraries imported successfully!\")"
   ]
  },
  {
   "cell_type": "markdown",
   "id": "a4d58b1f-ec5f-4265-94c5-7b01fa2850d7",
   "metadata": {},
   "source": [
    "## Load Data"
   ]
  },
  {
   "cell_type": "code",
   "execution_count": 8,
   "id": "025e15e2-8d38-4b09-9beb-287ef32d3be9",
   "metadata": {},
   "outputs": [
    {
     "name": "stdout",
     "output_type": "stream",
     "text": [
      "Training set shape: (175341, 45)\n",
      "Test set shape: (82332, 45)\n",
      "Data loaded successfully!\n"
     ]
    }
   ],
   "source": [
    "train_df = pd.read_csv('../data/UNSW_NB15_training-set.csv')\n",
    "test_df = pd.read_csv('../data/UNSW_NB15_testing-set.csv')\n",
    "\n",
    "print(f\"Training set shape: {train_df.shape}\")\n",
    "print(f\"Test set shape: {test_df.shape}\")\n",
    "print(\"Data loaded successfully!\")"
   ]
  },
  {
   "cell_type": "code",
   "execution_count": 10,
   "id": "b23d66f6-3c71-436b-b915-88e7b48d76a7",
   "metadata": {},
   "outputs": [
    {
     "data": {
      "text/plain": [
       "id                     int64\n",
       "dur                  float64\n",
       "proto                 object\n",
       "service               object\n",
       "state                 object\n",
       "spkts                  int64\n",
       "dpkts                  int64\n",
       "sbytes                 int64\n",
       "dbytes                 int64\n",
       "rate                 float64\n",
       "sttl                   int64\n",
       "dttl                   int64\n",
       "sload                float64\n",
       "dload                float64\n",
       "sloss                  int64\n",
       "dloss                  int64\n",
       "sinpkt               float64\n",
       "dinpkt               float64\n",
       "sjit                 float64\n",
       "djit                 float64\n",
       "swin                   int64\n",
       "stcpb                  int64\n",
       "dtcpb                  int64\n",
       "dwin                   int64\n",
       "tcprtt               float64\n",
       "synack               float64\n",
       "ackdat               float64\n",
       "smean                  int64\n",
       "dmean                  int64\n",
       "trans_depth            int64\n",
       "response_body_len      int64\n",
       "ct_srv_src             int64\n",
       "ct_state_ttl           int64\n",
       "ct_dst_ltm             int64\n",
       "ct_src_dport_ltm       int64\n",
       "ct_dst_sport_ltm       int64\n",
       "ct_dst_src_ltm         int64\n",
       "is_ftp_login           int64\n",
       "ct_ftp_cmd             int64\n",
       "ct_flw_http_mthd       int64\n",
       "ct_src_ltm             int64\n",
       "ct_srv_dst             int64\n",
       "is_sm_ips_ports        int64\n",
       "attack_cat            object\n",
       "label                  int64\n",
       "dtype: object"
      ]
     },
     "execution_count": 10,
     "metadata": {},
     "output_type": "execute_result"
    }
   ],
   "source": [
    "train_df.head()\n",
    "train_df.dtypes"
   ]
  },
  {
   "cell_type": "markdown",
   "id": "ee29ee9b-40d8-4efb-a2cc-86f22bb4e6ac",
   "metadata": {},
   "source": [
    "### Explore target variables"
   ]
  },
  {
   "cell_type": "code",
   "execution_count": 14,
   "id": "d8ab26e0-af57-4a18-8494-1994c299c8ec",
   "metadata": {},
   "outputs": [
    {
     "name": "stdout",
     "output_type": "stream",
     "text": [
      "Target Variable Analysis:\n",
      "\n",
      "Binary labels (label column):\n",
      "label\n",
      "1    119341\n",
      "0     56000\n",
      "Name: count, dtype: int64\n",
      "Attack percentage: 68.1%\n",
      "\n",
      "Attack categories (attack_cat column):\n",
      "attack_cat\n",
      "Normal            56000\n",
      "Generic           40000\n",
      "Exploits          33393\n",
      "Fuzzers           18184\n",
      "DoS               12264\n",
      "Reconnaissance    10491\n",
      "Analysis           2000\n",
      "Backdoor           1746\n",
      "Shellcode          1133\n",
      "Worms               130\n",
      "Name: count, dtype: int64\n"
     ]
    }
   ],
   "source": [
    "print(\"Target Variable Analysis:\")\n",
    "print(\"\\nBinary labels (label column):\")\n",
    "print(train_df['label'].value_counts())\n",
    "print(f\"Attack percentage: {(train_df['label'].sum() / len(train_df)) * 100:.1f}%\")\n",
    "\n",
    "print(\"\\nAttack categories (attack_cat column):\")\n",
    "print(train_df['attack_cat'].value_counts())"
   ]
  },
  {
   "cell_type": "code",
   "execution_count": 19,
   "id": "986de0ba-5df5-4fab-b8a0-b87ee9cb11e0",
   "metadata": {},
   "outputs": [
    {
     "name": "stdout",
     "output_type": "stream",
     "text": [
      "Training set missing values: 0\n",
      "Test set missing values: 0\n"
     ]
    }
   ],
   "source": [
    "# Check for missing values\n",
    "\n",
    "print(f\"Training set missing values: {train_df.isnull().sum().sum()}\")\n",
    "print(f\"Test set missing values: {test_df.isnull().sum().sum()}\")"
   ]
  },
  {
   "cell_type": "code",
   "execution_count": 23,
   "id": "dd2222f2-ef98-4313-b2f1-037c071e3f6f",
   "metadata": {},
   "outputs": [],
   "source": [
    "numeric_cols = train_df.select_dtypes(include=[np.number]).columns.tolist()\n",
    "categorical_cols = train_df.select_dtypes(include=['object']).columns.tolist()\n",
    "\n",
    "# Remove target variables\n",
    "if 'label' in numeric_cols:\n",
    "    numeric_cols.remove('label')\n",
    "if 'attack_cat' in categorical_cols:\n",
    "    categorical_cols.remove('attack_cat')"
   ]
  },
  {
   "cell_type": "code",
   "execution_count": 24,
   "id": "d8b5241b-c13c-4aa8-8d80-65331460e983",
   "metadata": {},
   "outputs": [
    {
     "name": "stdout",
     "output_type": "stream",
     "text": [
      "Numeric features (40): ['id', 'dur', 'spkts', 'dpkts', 'sbytes', 'dbytes', 'rate', 'sttl', 'dttl', 'sload', 'dload', 'sloss', 'dloss', 'sinpkt', 'dinpkt', 'sjit', 'djit', 'swin', 'stcpb', 'dtcpb', 'dwin', 'tcprtt', 'synack', 'ackdat', 'smean', 'dmean', 'trans_depth', 'response_body_len', 'ct_srv_src', 'ct_state_ttl', 'ct_dst_ltm', 'ct_src_dport_ltm', 'ct_dst_sport_ltm', 'ct_dst_src_ltm', 'is_ftp_login', 'ct_ftp_cmd', 'ct_flw_http_mthd', 'ct_src_ltm', 'ct_srv_dst', 'is_sm_ips_ports']\n",
      "\n",
      "Categorical features (3): ['proto', 'service', 'state']\n"
     ]
    }
   ],
   "source": [
    "print(f\"Numeric features ({len(numeric_cols)}): {numeric_cols}\")\n",
    "print(f\"\\nCategorical features ({len(categorical_cols)}): {categorical_cols}\")\n"
   ]
  },
  {
   "cell_type": "code",
   "execution_count": null,
   "id": "630bfea2-ae5e-41f2-89e7-c93a00f0529d",
   "metadata": {},
   "outputs": [],
   "source": []
  }
 ],
 "metadata": {
  "kernelspec": {
   "display_name": "Python 3 (ipykernel)",
   "language": "python",
   "name": "python3"
  },
  "language_info": {
   "codemirror_mode": {
    "name": "ipython",
    "version": 3
   },
   "file_extension": ".py",
   "mimetype": "text/x-python",
   "name": "python",
   "nbconvert_exporter": "python",
   "pygments_lexer": "ipython3",
   "version": "3.11.9"
  }
 },
 "nbformat": 4,
 "nbformat_minor": 5
}
